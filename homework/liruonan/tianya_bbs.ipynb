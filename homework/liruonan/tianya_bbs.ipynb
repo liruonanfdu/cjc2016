{
 "cells": [
  {
   "cell_type": "code",
   "execution_count": 5,
   "metadata": {
    "collapsed": true
   },
   "outputs": [],
   "source": [
    "import urllib2\n",
    "from bs4 import BeautifulSoup"
   ]
  },
  {
   "cell_type": "code",
   "execution_count": 59,
   "metadata": {
    "collapsed": false
   },
   "outputs": [
    {
     "data": {
      "text/html": [
       "<iframe src=http://bbs.tianya.cn/list.jsp?item=free&grade=0&order=1&su=0&k=BAT width=1000 height=500></iframe>"
      ],
      "text/plain": [
       "<IPython.core.display.HTML object>"
      ]
     },
     "execution_count": 59,
     "metadata": {},
     "output_type": "execute_result"
    }
   ],
   "source": [
    "from IPython.display import display_html, HTML\n",
    "HTML('<iframe src=http://bbs.tianya.cn/list.jsp?item=free&grade=0&order=1&su=0&k=BAT width=1000 height=500></iframe>')"
   ]
  },
  {
   "cell_type": "code",
   "execution_count": 60,
   "metadata": {
    "collapsed": false
   },
   "outputs": [],
   "source": [
    "page_num = 0\n",
    "url = \"http://bbs.tianya.cn/list.jsp?item=free&nextid=%d&order=8&k=BAT\" %page_num\n",
    "content = urllib2.urlopen(url).read() #获取网页的html文本\n",
    "soup = BeautifulSoup(content, \"lxml\") \n",
    "articles = soup.find_all('tr')"
   ]
  },
  {
   "cell_type": "code",
   "execution_count": 17,
   "metadata": {
    "collapsed": false
   },
   "outputs": [
    {
     "name": "stdout",
     "output_type": "stream",
     "text": [
      "<tr>\n",
      "<th scope=\"col\"> 标题</th>\n",
      "<th scope=\"col\">作者</th>\n",
      "<th scope=\"col\">点击</th>\n",
      "<th scope=\"col\">回复</th>\n",
      "<th scope=\"col\">发表时间</th>\n",
      "</tr>\n"
     ]
    }
   ],
   "source": [
    "print articles[0]"
   ]
  },
  {
   "cell_type": "code",
   "execution_count": 18,
   "metadata": {
    "collapsed": false
   },
   "outputs": [
    {
     "name": "stdout",
     "output_type": "stream",
     "text": [
      "<tr class=\"bg\">\n",
      "<td class=\"td-title \">\n",
      "<span class=\"face\" title=\"\">\n",
      "</span>\n",
      "<a href=\"/post-free-4184214-1.shtml\" target=\"_blank\">\r\n",
      "\t\t\t\t\t\t\tBAT中国网络三巨头最大股东揭秘<span class=\"art-ico art-ico-3\" title=\"内有0张图片\"></span>\n",
      "</a>\n",
      "</td>\n",
      "<td><a class=\"author\" href=\"http://www.tianya.cn/88136392\" target=\"_blank\">我为美分狂</a></td>\n",
      "<td>1288</td>\n",
      "<td>9</td>\n",
      "<td title=\"2014-03-11 14:12\">03-11 14:12</td>\n",
      "</tr>\n"
     ]
    }
   ],
   "source": [
    "print articles[1]"
   ]
  },
  {
   "cell_type": "code",
   "execution_count": 19,
   "metadata": {
    "collapsed": false
   },
   "outputs": [
    {
     "data": {
      "text/plain": [
       "19"
      ]
     },
     "execution_count": 19,
     "metadata": {},
     "output_type": "execute_result"
    }
   ],
   "source": [
    "len(articles[1:])"
   ]
  },
  {
   "cell_type": "code",
   "execution_count": 20,
   "metadata": {
    "collapsed": false
   },
   "outputs": [
    {
     "name": "stdout",
     "output_type": "stream",
     "text": [
      "<td class=\"td-title \">\n",
      "<span class=\"face\" title=\"\">\n",
      "</span>\n",
      "<a href=\"/post-free-4184214-1.shtml\" target=\"_blank\">\r\n",
      "\t\t\t\t\t\t\tBAT中国网络三巨头最大股东揭秘<span class=\"art-ico art-ico-3\" title=\"内有0张图片\"></span>\n",
      "</a>\n",
      "</td>\n",
      "<td><a class=\"author\" href=\"http://www.tianya.cn/88136392\" target=\"_blank\">我为美分狂</a></td>\n",
      "<td>1288</td>\n",
      "<td>9</td>\n",
      "<td title=\"2014-03-11 14:12\">03-11 14:12</td>\n"
     ]
    }
   ],
   "source": [
    "for t in articles[1].find_all('td'):print t"
   ]
  },
  {
   "cell_type": "code",
   "execution_count": 21,
   "metadata": {
    "collapsed": true
   },
   "outputs": [],
   "source": [
    "td=articles[1].find_all('td')"
   ]
  },
  {
   "cell_type": "code",
   "execution_count": 22,
   "metadata": {
    "collapsed": false
   },
   "outputs": [
    {
     "name": "stdout",
     "output_type": "stream",
     "text": [
      "<td class=\"td-title \">\n",
      "<span class=\"face\" title=\"\">\n",
      "</span>\n",
      "<a href=\"/post-free-4184214-1.shtml\" target=\"_blank\">\r\n",
      "\t\t\t\t\t\t\tBAT中国网络三巨头最大股东揭秘<span class=\"art-ico art-ico-3\" title=\"内有0张图片\"></span>\n",
      "</a>\n",
      "</td>\n"
     ]
    }
   ],
   "source": [
    "print td[0]"
   ]
  },
  {
   "cell_type": "code",
   "execution_count": 23,
   "metadata": {
    "collapsed": false
   },
   "outputs": [
    {
     "name": "stdout",
     "output_type": "stream",
     "text": [
      "BAT中国网络三巨头最大股东揭秘\n"
     ]
    }
   ],
   "source": [
    "print td[0].text.strip()"
   ]
  },
  {
   "cell_type": "code",
   "execution_count": 24,
   "metadata": {
    "collapsed": false
   },
   "outputs": [
    {
     "name": "stdout",
     "output_type": "stream",
     "text": [
      "/post-free-4184214-1.shtml\n"
     ]
    }
   ],
   "source": [
    "print td[0].a['href']"
   ]
  },
  {
   "cell_type": "code",
   "execution_count": 25,
   "metadata": {
    "collapsed": false
   },
   "outputs": [
    {
     "name": "stdout",
     "output_type": "stream",
     "text": [
      "<td><a class=\"author\" href=\"http://www.tianya.cn/88136392\" target=\"_blank\">我为美分狂</a></td>\n"
     ]
    }
   ],
   "source": [
    "print td[1]"
   ]
  },
  {
   "cell_type": "code",
   "execution_count": 26,
   "metadata": {
    "collapsed": false
   },
   "outputs": [
    {
     "name": "stdout",
     "output_type": "stream",
     "text": [
      "BAT中国网络三巨头最大股东揭秘\n",
      "国民老公 王思聪 BAT 白岩松 互联网- 2015年10月10日\n",
      "bat运行java程序的修改\n",
      "百度再不出手,BAT就只剩下AT了\n",
      "记录从BAT辞职到创业的历程\n",
      "马云谈BAT三座大山:地主被斗死 农民就富了?\n",
      "细数互联网BAT的三宗罪\n",
      "百度退出BAT,知道挂谷歌联盟广告,百度穷疯了么\n",
      "【纪硕鸣专栏】 BAT大佬告诉你下一个风口(转载)\n",
      "8+ BAT再战互联网金融生态:阿里金融的挑战者来了\n",
      "全球特攻总裁杨石磊反驳BAT,不会停止社会招聘!!\n",
      "BAT三巨头2014年度财报大比拼(转载)\n",
      "互联网新动态:BAT开启\"生态圈\"建设模式(转载)\n",
      "2015年BAT集中火力如何玩?原来老乡也可以玩020\n",
      "在线教育开启BAT模式 结束短暂创业期(转载)\n",
      "应用商店危机,BAT选择同时变\"轻\"(转载)\n",
      "移动医疗-BAT也玩不动的互联网市场\n",
      "BAT猛扎移动支付,谁将笑到最后?\n",
      "互联网的未来究竟在哪里? ——从BAT困境说起\n"
     ]
    }
   ],
   "source": [
    "for i in articles[1:]:\n",
    "    td=i.find_all('td')\n",
    "    title=td[0].text.strip()\n",
    "    print title"
   ]
  },
  {
   "cell_type": "code",
   "execution_count": 27,
   "metadata": {
    "collapsed": true
   },
   "outputs": [],
   "source": [
    "records = []\n",
    "for i in articles[1:]:\n",
    "    td = i.find_all('td')\n",
    "    title = td[0].text.strip()\n",
    "    title_url = td[0].a['href']\n",
    "    author = td[1].text\n",
    "    author_url = td[1].a['href']\n",
    "    views = td[2].text\n",
    "    replies = td[3].text\n",
    "    date = td[4]['title']\n",
    "    record = title + '\\t' + title_url+ '\\t' + author + '\\t'+ author_url + '\\t' + views+ '\\t'  + replies+ '\\t'+ date\n",
    "    records.append(record)"
   ]
  },
  {
   "cell_type": "code",
   "execution_count": 28,
   "metadata": {
    "collapsed": false
   },
   "outputs": [
    {
     "name": "stdout",
     "output_type": "stream",
     "text": [
      "bat运行java程序的修改\t/post-free-3456443-1.shtml\t素质青年G\thttp://www.tianya.cn/77739874\t184\t0\t2013-07-06 09:52\n"
     ]
    }
   ],
   "source": [
    "print records[2]"
   ]
  },
  {
   "cell_type": "code",
   "execution_count": 36,
   "metadata": {
    "collapsed": false
   },
   "outputs": [],
   "source": [
    "def crawler(page_num, file_name):\n",
    "    try:\n",
    "        url = \"http://bbs.tianya.cn/list.jsp?item=free&nextid=%d&order=8&k=BAT\" % page_num\n",
    "        content = urllib2.urlopen(url).read() \n",
    "        soup = BeautifulSoup(content, \"lxml\") \n",
    "        articles = soup.find_all('tr')\n",
    "        for i in articles[1:]:\n",
    "            td = i.find_all('td')\n",
    "            title = td[0].text.strip()\n",
    "            title_url = td[0].a['href']\n",
    "            author = td[1].text\n",
    "            author_url = td[1].a['href']\n",
    "            views = td[2].text\n",
    "            replies = td[3].text\n",
    "            date = td[4]['title']\n",
    "            record = title + '\\t' + title_url+ '\\t' + author + '\\t'+ \\\n",
    "                        author_url + '\\t' + views+ '\\t'  + replies+ '\\t'+ date\n",
    "            with open(file_name,'a') as p: \n",
    "                        p.write(record.encode('utf-8')+\"\\n\")\n",
    "\n",
    "    except Exception, e:\n",
    "        print e\n",
    "        pass"
   ]
  },
  {
   "cell_type": "code",
   "execution_count": 39,
   "metadata": {
    "collapsed": false
   },
   "outputs": [
    {
     "name": "stdout",
     "output_type": "stream",
     "text": [
      "0\n",
      "1\n",
      "2\n",
      "3\n",
      "4\n",
      "5\n",
      "6\n",
      "7\n",
      "8\n",
      "9\n"
     ]
    }
   ],
   "source": [
    "# crawl all pages\n",
    "for page_num in range(10):\n",
    "    print (page_num)\n",
    "    crawler(page_num, '/Users/user/Desktop/BAT_tianya_threads_list.txt')"
   ]
  },
  {
   "cell_type": "code",
   "execution_count": 40,
   "metadata": {
    "collapsed": false
   },
   "outputs": [
    {
     "data": {
      "text/html": [
       "<div>\n",
       "<table border=\"1\" class=\"dataframe\">\n",
       "  <thead>\n",
       "    <tr style=\"text-align: right;\">\n",
       "      <th></th>\n",
       "      <th>0</th>\n",
       "      <th>1</th>\n",
       "      <th>2</th>\n",
       "      <th>3</th>\n",
       "      <th>4</th>\n",
       "      <th>5</th>\n",
       "      <th>6</th>\n",
       "    </tr>\n",
       "  </thead>\n",
       "  <tbody>\n",
       "    <tr>\n",
       "      <th>0</th>\n",
       "      <td>BAT中国网络三巨头最大股东揭秘</td>\n",
       "      <td>/post-free-4184214-1.shtml</td>\n",
       "      <td>我为美分狂</td>\n",
       "      <td>http://www.tianya.cn/88136392</td>\n",
       "      <td>1288</td>\n",
       "      <td>9</td>\n",
       "      <td>2014-03-11 14:12</td>\n",
       "    </tr>\n",
       "    <tr>\n",
       "      <th>1</th>\n",
       "      <td>国民老公 王思聪 BAT 白岩松 互联网- 2015年10月10日</td>\n",
       "      <td>/post-free-5276870-1.shtml</td>\n",
       "      <td>文明特区</td>\n",
       "      <td>http://www.tianya.cn/105431820</td>\n",
       "      <td>277</td>\n",
       "      <td>8</td>\n",
       "      <td>2015-10-10 15:12</td>\n",
       "    </tr>\n",
       "  </tbody>\n",
       "</table>\n",
       "</div>"
      ],
      "text/plain": [
       "                                   0                           1      2  \\\n",
       "0                   BAT中国网络三巨头最大股东揭秘  /post-free-4184214-1.shtml  我为美分狂   \n",
       "1  国民老公 王思聪 BAT 白岩松 互联网- 2015年10月10日  /post-free-5276870-1.shtml   文明特区   \n",
       "\n",
       "                                3     4  5                 6  \n",
       "0   http://www.tianya.cn/88136392  1288  9  2014-03-11 14:12  \n",
       "1  http://www.tianya.cn/105431820   277  8  2015-10-10 15:12  "
      ]
     },
     "execution_count": 40,
     "metadata": {},
     "output_type": "execute_result"
    }
   ],
   "source": [
    "import pandas as pd\n",
    "\n",
    "df = pd.read_csv('/Users/user/Desktop/BAT_tianya_threads_list.txt', sep = \"\\t\", header=None)\n",
    "df[:2]"
   ]
  },
  {
   "cell_type": "code",
   "execution_count": 41,
   "metadata": {
    "collapsed": false
   },
   "outputs": [
    {
     "data": {
      "text/plain": [
       "19"
      ]
     },
     "execution_count": 41,
     "metadata": {},
     "output_type": "execute_result"
    }
   ],
   "source": [
    "len(df)"
   ]
  },
  {
   "cell_type": "code",
   "execution_count": 44,
   "metadata": {
    "collapsed": false
   },
   "outputs": [
    {
     "data": {
      "text/html": [
       "<div>\n",
       "<table border=\"1\" class=\"dataframe\">\n",
       "  <thead>\n",
       "    <tr style=\"text-align: right;\">\n",
       "      <th></th>\n",
       "      <th>title</th>\n",
       "      <th>link</th>\n",
       "      <th>author</th>\n",
       "      <th>author_page</th>\n",
       "      <th>click</th>\n",
       "      <th>reply</th>\n",
       "      <th>time</th>\n",
       "    </tr>\n",
       "  </thead>\n",
       "  <tbody>\n",
       "    <tr>\n",
       "      <th>0</th>\n",
       "      <td>BAT中国网络三巨头最大股东揭秘</td>\n",
       "      <td>/post-free-4184214-1.shtml</td>\n",
       "      <td>我为美分狂</td>\n",
       "      <td>http://www.tianya.cn/88136392</td>\n",
       "      <td>1288</td>\n",
       "      <td>9</td>\n",
       "      <td>2014-03-11 14:12</td>\n",
       "    </tr>\n",
       "    <tr>\n",
       "      <th>1</th>\n",
       "      <td>国民老公 王思聪 BAT 白岩松 互联网- 2015年10月10日</td>\n",
       "      <td>/post-free-5276870-1.shtml</td>\n",
       "      <td>文明特区</td>\n",
       "      <td>http://www.tianya.cn/105431820</td>\n",
       "      <td>277</td>\n",
       "      <td>8</td>\n",
       "      <td>2015-10-10 15:12</td>\n",
       "    </tr>\n",
       "  </tbody>\n",
       "</table>\n",
       "</div>"
      ],
      "text/plain": [
       "                               title                        link author  \\\n",
       "0                   BAT中国网络三巨头最大股东揭秘  /post-free-4184214-1.shtml  我为美分狂   \n",
       "1  国民老公 王思聪 BAT 白岩松 互联网- 2015年10月10日  /post-free-5276870-1.shtml   文明特区   \n",
       "\n",
       "                      author_page  click  reply              time  \n",
       "0   http://www.tianya.cn/88136392   1288      9  2014-03-11 14:12  \n",
       "1  http://www.tianya.cn/105431820    277      8  2015-10-10 15:12  "
      ]
     },
     "execution_count": 44,
     "metadata": {},
     "output_type": "execute_result"
    }
   ],
   "source": [
    "df=df.rename(columns={0:'title',1:'link',2:'author',3:'author_page',4:'click',5:'reply',6:'time'})\n",
    "df[:2]"
   ]
  },
  {
   "cell_type": "code",
   "execution_count": 45,
   "metadata": {
    "collapsed": false
   },
   "outputs": [
    {
     "data": {
      "text/plain": [
       "19"
      ]
     },
     "execution_count": 45,
     "metadata": {},
     "output_type": "execute_result"
    }
   ],
   "source": [
    "len(df.link)"
   ]
  },
  {
   "cell_type": "code",
   "execution_count": 46,
   "metadata": {
    "collapsed": false
   },
   "outputs": [
    {
     "data": {
      "text/plain": [
       "0     http://www.tianya.cn/88136392\n",
       "1    http://www.tianya.cn/105431820\n",
       "2     http://www.tianya.cn/77739874\n",
       "3    http://www.tianya.cn/107208199\n",
       "4    http://www.tianya.cn/106175503\n",
       "5     http://www.tianya.cn/68140045\n",
       "6     http://www.tianya.cn/75580847\n",
       "7     http://www.tianya.cn/47051544\n",
       "Name: author_page, dtype: object"
      ]
     },
     "execution_count": 46,
     "metadata": {},
     "output_type": "execute_result"
    }
   ],
   "source": [
    "df.author_page[:8]"
   ]
  },
  {
   "cell_type": "code",
   "execution_count": 48,
   "metadata": {
    "collapsed": true
   },
   "outputs": [],
   "source": [
    "def author_crawler(url, file_name):\n",
    "    try:\n",
    "        content = urllib2.urlopen(url).read() \n",
    "        soup = BeautifulSoup(content, \"lxml\")\n",
    "        link_info = soup.find_all('div', {'class', 'link-box'})\n",
    "        followed_num, fans_num = [i.a.text for i in link_info]\n",
    "        try:\n",
    "            activity = soup.find_all('span', {'class', 'subtitle'})\n",
    "            post_num, reply_num = [j.text[2:] for i in activity[:1] for j in i('a')]\n",
    "        except:\n",
    "            post_num, reply_num = 1, 0\n",
    "        record =  '\\t'.join([url, followed_num, fans_num, post_num, reply_num])\n",
    "        with open(file_name,'a') as p: \n",
    "                    p.write(record.encode('utf-8')+\"\\n\") \n",
    "\n",
    "    except Exception, e:\n",
    "        print e, url\n",
    "        record =  '\\t'.join([url, 'na', 'na', 'na', 'na'])\n",
    "        with open(file_name,'a') as p: \n",
    "                    p.write(record.encode('utf-8')+\"\\n\") \n",
    "        pass"
   ]
  },
  {
   "cell_type": "code",
   "execution_count": 207,
   "metadata": {
    "collapsed": false
   },
   "outputs": [
    {
     "name": "stdout",
     "output_type": "stream",
     "text": [
      "0\n",
      "need more than 0 values to unpack http://www.tianya.cn/47051544\n",
      "10\n"
     ]
    }
   ],
   "source": [
    "for k, url in enumerate(df.author_page):\n",
    "    if k % 10==0:\n",
    "        print k\n",
    "    author_crawler(url, '/Users/user/Desktop/BAT_tianya_threads_list.txt')"
   ]
  },
  {
   "cell_type": "code",
   "execution_count": 208,
   "metadata": {
    "collapsed": true
   },
   "outputs": [],
   "source": [
    "url = df.author_page[1]\n",
    "content = urllib2.urlopen(url).read() #获取网页的html文本\n",
    "soup1 = BeautifulSoup(content, \"lxml\") "
   ]
  },
  {
   "cell_type": "code",
   "execution_count": 209,
   "metadata": {
    "collapsed": false
   },
   "outputs": [
    {
     "name": "stdout",
     "output_type": "stream",
     "text": [
      "　　分612 录次数27 新登录2016-05-14 19:44:57 册日期2015-09-03 20:41:18\n",
      "0 0\n"
     ]
    }
   ],
   "source": [
    "user_info = soup1.find('div', {'class', 'userinfo'})('p')\n",
    "area,freq_use, last_login_time, reg_time  = [i.get_text()[1:] for i in user_info]\n",
    "print area,freq_use, last_login_time, reg_time \n",
    "\n",
    "link_info = soup1.find_all('div', {'class', 'link-box'})\n",
    "followed_num, fans_num = [i.a.text for i in link_info]\n",
    "print followed_num, fans_num"
   ]
  },
  {
   "cell_type": "code",
   "execution_count": 108,
   "metadata": {
    "collapsed": false
   },
   "outputs": [
    {
     "name": "stdout",
     "output_type": "stream",
     "text": [
      "积　　分612 登录次数27 最新登录2016-05-14 19:44:57 注册日期2015-09-03 20:41:18\n",
      "0 0\n"
     ]
    }
   ],
   "source": [
    "user_info = soup1.find('div', {'class', 'userinfo'})('p')\n",
    "nid,freq_use, last_login_time, reg_time  = [i.get_text()[0:] for i in user_info]\n",
    "print nid,freq_use, last_login_time, reg_time \n",
    "\n",
    "link_info = soup1.find_all('div', {'class', 'link-box'})\n",
    "followed_num, fans_num = [i.a.text for i in link_info]\n",
    "print followed_num, fans_num"
   ]
  },
  {
   "cell_type": "code",
   "execution_count": 206,
   "metadata": {
    "collapsed": false
   },
   "outputs": [
    {
     "name": "stdout",
     "output_type": "stream",
     "text": [
      "19 30\n"
     ]
    }
   ],
   "source": [
    "activity = soup1.find_all('span', {'class', 'subtitle'})\n",
    "post_num, reply_num = [j.text[2:] for i in activity[:1] for j in i('a')]\n",
    "print post_num, reply_num"
   ]
  },
  {
   "cell_type": "code",
   "execution_count": 110,
   "metadata": {
    "collapsed": false
   },
   "outputs": [
    {
     "name": "stdout",
     "output_type": "stream",
     "text": [
      "<span class=\"subtitle\"><a href=\"http://www.tianya.cn/105431820/bbs?t=post\">主帖19</a>　<a href=\"http://www.tianya.cn/105431820/bbs?t=reply\">回帖30</a></span>\n"
     ]
    }
   ],
   "source": [
    "print activity[0]"
   ]
  },
  {
   "cell_type": "code",
   "execution_count": 111,
   "metadata": {
    "collapsed": false
   },
   "outputs": [
    {
     "data": {
      "text/plain": [
       "[<p><span>\\u79ef\\u3000\\u3000\\u5206</span>612</p>,\n",
       " <p><span>\\u767b\\u5f55\\u6b21\\u6570</span>27</p>,\n",
       " <p><span>\\u6700\\u65b0\\u767b\\u5f55</span>2016-05-14 19:44:57</p>,\n",
       " <p><span>\\u6ce8\\u518c\\u65e5\\u671f</span>2015-09-03 20:41:18</p>]"
      ]
     },
     "execution_count": 111,
     "metadata": {},
     "output_type": "execute_result"
    }
   ],
   "source": [
    "user_info"
   ]
  },
  {
   "cell_type": "code",
   "execution_count": 113,
   "metadata": {
    "collapsed": false
   },
   "outputs": [
    {
     "name": "stdout",
     "output_type": "stream",
     "text": [
      "0 0\n"
     ]
    }
   ],
   "source": [
    "link_info = soup1.find_all('div', {'class', 'link-box'})\n",
    "followed_num, fans_num = [i.a.text for i in link_info]\n",
    "print followed_num, fans_num"
   ]
  },
  {
   "cell_type": "code",
   "execution_count": 114,
   "metadata": {
    "collapsed": false
   },
   "outputs": [
    {
     "data": {
      "text/plain": [
       "u'0'"
      ]
     },
     "execution_count": 114,
     "metadata": {},
     "output_type": "execute_result"
    }
   ],
   "source": [
    "link_info[0].a.text"
   ]
  },
  {
   "cell_type": "code",
   "execution_count": 115,
   "metadata": {
    "collapsed": false
   },
   "outputs": [
    {
     "data": {
      "text/plain": [
       "'/post-free-3456443-1.shtml'"
      ]
     },
     "execution_count": 115,
     "metadata": {},
     "output_type": "execute_result"
    }
   ],
   "source": [
    "df.link[2]"
   ]
  },
  {
   "cell_type": "code",
   "execution_count": 177,
   "metadata": {
    "collapsed": false
   },
   "outputs": [
    {
     "data": {
      "text/plain": [
       "'http://bbs.tianya.cn/post-free-5269736-1.shtml'"
      ]
     },
     "execution_count": 177,
     "metadata": {},
     "output_type": "execute_result"
    }
   ],
   "source": [
    "url = 'http://bbs.tianya.cn' + df.link[4]\n",
    "url"
   ]
  },
  {
   "cell_type": "code",
   "execution_count": 169,
   "metadata": {
    "collapsed": false
   },
   "outputs": [
    {
     "data": {
      "text/html": [
       "<iframe src=http://bbs.tianya.cn/post-free-5269736-1.shtml  width=1000 height=500></iframe>"
      ],
      "text/plain": [
       "<IPython.core.display.HTML object>"
      ]
     },
     "execution_count": 169,
     "metadata": {},
     "output_type": "execute_result"
    }
   ],
   "source": [
    "from IPython.display import display_html, HTML\n",
    "HTML('<iframe src=http://bbs.tianya.cn/post-free-5269736-1.shtml  width=1000 height=500></iframe>')"
   ]
  },
  {
   "cell_type": "code",
   "execution_count": 178,
   "metadata": {
    "collapsed": false
   },
   "outputs": [],
   "source": [
    "post=urllib2.urlopen(url).read()\n",
    "post_soup=BeautifulSoup(post,\"lxml\")"
   ]
  },
  {
   "cell_type": "code",
   "execution_count": 179,
   "metadata": {
    "collapsed": false
   },
   "outputs": [
    {
     "name": "stdout",
     "output_type": "stream",
     "text": [
      "<!DOCTYPE HTML>\n",
      "<html>\n",
      " <head>\n",
      "  <meta charset=\"utf-8\"/>\n",
      "  <title>\n",
      "   记录从BAT辞职到创业的历程_天涯杂谈_天涯论坛\n",
      "  </title>\n",
      "  <meta content=\"记录从BAT辞职到创业的历程　　创业三个月了，回想从辞职到创业，从拉团队，到和合伙人一起找到千万级天使轮风投，收获很多，也成长很多。感谢兄弟们的鼎力支持，放弃目前优越的职位，一起日夜奋斗！人生最重要的财富就是经历，不断挑战自己的能力极限，让生命更精彩。　　记得提出辞...\" name=\"description\"/>\n",
      "  <meta content=\"IE=EmulateIE9\" http-equiv=\"X-UA-Compatible\"/>\n",
      "  <meta content=\"坐看云起0317\" name=\"author\"/>\n",
      "  <meta content=\"format=xhtml; url=http://bbs.tianya.cn/m/post-free-5269736-1.shtml\" http-equiv=\"mobile-agent\"/>\n",
      "  <link href=\"http://static.tianyaui.com/global/ty/TY.css\" rel=\"stylesheet\" type=\"text/css\"/>\n",
      "  <link href=\"http://static.tianyaui.com/global/bbs/web/static/css/bbs_article_c55fffc.css\" rel=\"stylesheet\" type=\"text/css\"/>\n",
      "  <link href=\"http://static.tianyaui.com/favicon.ico\" rel=\"shortcut icon\" type=\"image/vnd.microsoft.icon\"/>\n",
      "  <script type=\"text/javascript\">\n",
      "   var bbsGlobal = {\r\n",
      "\tisEhomeItem : false,\r\n",
      "\tisNewArticle : false,\r\n",
      "\tauthorId : \"106175503\",\r\n",
      "\tauthorName : \"坐看云起0317\", \r\n",
      "\tblocktype : \"主版\",\r\n",
      "\titemType : \"主版\",\r\n",
      "\tlaibaType : \"null\",  \r\n",
      "\tpage : \"1\",\r\n",
      "\tpermission : true,\r\n",
      "\tpermissionStatus : \"开放\",\r\n",
      "\titemPermission : 1,\r\n",
      "\titemCategory : \"社会\",\r\n",
      "\tisWeiLun : false,\r\n",
      "\tisSealItem : false,\r\n",
      "\titem : \"free\",\r\n",
      "\titemName : \"天涯杂谈\",\r\n",
      "\tartId : 5269736,\r\n",
      "\tmedia : 0,\r\n",
      "\tsubType : \"\",\r\n",
      "\tad : 0,\r\n",
      "\tadshow : 0,\r\n",
      "\tadblock : 0,\r\n",
      "\twords : [{\"link\":\"http://ebook.tianya.cn/html2/chapter.aspx?bookid=75204&comefrom=tianya \",\"word\":\"养鬼\"},{\"link\":\"http://ebook.tianya.cn/html2/chapter.aspx?bookid=78822&comefrom=tianya \",\"word\":\"爱情\"},{\"link\":\"http://ebook.tianya.cn/html2/chapter.aspx?bookid=78829&comefrom=tianya \",\"word\":\"离婚\"},{\"link\":\"http://zan.tianya.cn/\",\"word\":\"原创\"},{\"link\":\"http://bbs.tianya.cn/list-410-1.shtml\",\"word\":\"主播\"},{\"link\":\"http://groups.tianya.cn/list-163029-1.shtml\",\"word\":\"日记\"},{\"link\":\"http://groups.tianya.cn/list-163907-1.shtml\",\"word\":\"吐糟\"},{\"link\":\"http://groups.tianya.cn/list-65695-1.shtml\",\"word\":\"青春\"},{\"link\":\"http://groups.tianya.cn/list-86723-1.shtml\",\"word\":\"EXO\"},{\"link\":\"http://groups.tianya.cn/list-81007-1.shtml\",\"word\":\"李易峰\"},{\"link\":\"http://groups.tianya.cn/list-9999-1.shtml\",\"word\":\"乔振宇\"},{\"link\":\"http://groups.tianya.cn/list-9619-1.shtml\",\"word\":\"陈晓\"},{\"link\":\"http://groups.tianya.cn/list-9214-1.shtml\",\"word\":\"历史\"},{\"link\":\"http://groups.tianya.cn/list-163222-1.shtml\",\"word\":\"哲学\"},{\"link\":\"http://groups.tianya.cn/list-163503-1.shtml\",\"word\":\"感动\"},{\"link\":\"http://bbs.tianya.cn/list-730-1.shtml\",\"word\":\"中山大学\"},{\"link\":\"http://groups.tianya.cn/list-14270-1.shtml\",\"word\":\"雨后\"},{\"link\":\"http://groups.tianya.cn/list-9797-1.shtml\",\"word\":\"钟汉良\"}],\r\n",
      "\tpageCount : 1,\r\n",
      "\tdashang : {\r\n",
      "\t\tmerId : \"%E5%A4%A9%E6%B6%AF%E8%AE%BA%E5%9D%9B\",\r\n",
      "\t\tmerNum : \"free-5269736\",\r\n",
      "\t\tgetName : \"%E5%9D%90%E7%9C%8B%E4%BA%91%E8%B5%B70317\",\r\n",
      "\t\ttime : \"1463637497273\",\r\n",
      "\t\text1 : \"5269736\",\r\n",
      "\t\text2 : \"free\",\r\n",
      "\t\text4 : \"%E8%AE%B0%E5%BD%95%E4%BB%8EBAT%E8%BE%9E%E8%81%8C%E5%88%B0%E5%88%9B%E4%B8%9A%E7%9A%84%E5%8E%86%E7%A8%8B\",\r\n",
      "\t\tsign : \"ddf69954b9ee434e44d9dc61ac15d1ba\",\r\n",
      "\t\tamount : 0,\r\n",
      "\t\tzhiyinCount : 0,\r\n",
      "\t\tnewestRecords : null\r\n",
      "\t},\r\n",
      "\tisWenda : false,\r\n",
      "\t\r\n",
      "\tisSlide : true,\r\n",
      "\ttrueName : \"\",\r\n",
      "\tartProtectedTips : \"\"\r\n",
      "};\r\n",
      "\r\n",
      "var adsGlobal = {\r\n",
      "\t\titemId : \"free\",\r\n",
      "\t\tpageType : \"02\",\r\n",
      "\t\tpopWinId: \"16\"\r\n",
      "};\n",
      "  </script>\n",
      "  <script charset=\"utf-8\" src=\"http://static.tianyaui.com/global/ty/TY.js\" type=\"text/javascript\">\n",
      "  </script>\n",
      "  <script charset=\"utf-8\" src=\"http://static.tianyaui.com/global/bbs/web/static/js/main_b081fde.js\" type=\"text/javascript\">\n",
      "  </script>\n",
      " </head>\n",
      " <body>\n",
      "  <div id=\"top_nav_wrap\">\n",
      "   <div class=\"clearfix\" id=\"top_nav\">\n",
      "    <div class=\"top-nav-logo\">\n",
      "     <a _tystat=\"新版顶导航/Logo\" href=\"http://focus.tianya.cn/\">\n",
      "     </a>\n",
      "    </div>\n",
      "    <div class=\"top-nav-main clearfix\">\n",
      "     <div class=\"top-nav-menu clearfix\">\n",
      "      <div class=\"top-nav-fl clearfix\">\n",
      "       <ul class=\"top-nav-menu-list clearfix\">\n",
      "        <li class=\"top-nav-menu-li top-nav-menu-li-first\">\n",
      "         <a _checklocation=\"1\" _tystat=\"新版顶导航/论坛\" appstr=\"bbs\" class=\"top-nav-main-menu\" href=\"http://bbs.tianya.cn/\">\n",
      "          论坛\n",
      "         </a>\n",
      "        </li>\n",
      "        <li class=\"top-nav-menu-li\">\n",
      "         <a _checklocation=\"1\" _tystat=\"新版顶导航/分社区/聚焦\" appstr=\"focus\" class=\"top-nav-main-menu\" href=\"http://focus.tianya.cn/\">\n",
      "          聚焦\n",
      "         </a>\n",
      "        </li>\n",
      "        <li class=\"top-nav-menu-li\">\n",
      "         <a _tystat=\"新版顶导航/部落\" class=\"top-nav-main-menu\" href=\"http://groups.tianya.cn\">\n",
      "          部落\n",
      "         </a>\n",
      "        </li>\n",
      "        <li class=\"top-nav-menu-li\">\n",
      "         <a _checklocation=\"1\" _tystat=\"新版顶导航/博客\" appstr=\"blog\" class=\"top-nav-main-menu\" href=\"http://blog.tianya.cn/\">\n",
      "          博客\n",
      "         </a>\n",
      "        </li>\n",
      "        <li class=\"top-nav-menu-li\">\n",
      "         <a _checklocation=\"1\" _tystat=\"新版顶导航/问答\" appstr=\"wenda\" class=\"top-nav-main-menu\" href=\"http://wenda.tianya.cn/\">\n",
      "          问答\n",
      "         </a>\n",
      "        </li>\n",
      "        <!-- <li class=\"top-nav-menu-li\"><a _tystat=\"新版顶导航/天涯客\" href=\"http://travel.tianya.cn/\" class=\"top-nav-main-menu\" appstr=\"travel\" _checklocation=\"1\">天涯客</a></li>-->\n",
      " \n"
     ]
    }
   ],
   "source": [
    "print (post_soup.prettify())[:5000]"
   ]
  },
  {
   "cell_type": "code",
   "execution_count": 180,
   "metadata": {
    "collapsed": false
   },
   "outputs": [
    {
     "data": {
      "text/plain": [
       "5"
      ]
     },
     "execution_count": 180,
     "metadata": {},
     "output_type": "execute_result"
    }
   ],
   "source": [
    "pa = post_soup.find_all('div', {'class', 'atl-item'})\n",
    "len(pa)"
   ]
  },
  {
   "cell_type": "code",
   "execution_count": 181,
   "metadata": {
    "collapsed": false
   },
   "outputs": [
    {
     "name": "stdout",
     "output_type": "stream",
     "text": [
      "<div _host=\"%E5%9D%90%E7%9C%8B%E4%BA%91%E8%B5%B70317\" class=\"atl-item host-item\">\n",
      "<div class=\"atl-content\">\n",
      "<div class=\"atl-con-hd clearfix\">\n",
      "<div class=\"atl-con-hd-l\"></div>\n",
      "<div class=\"atl-con-hd-r\"></div>\n",
      "</div>\n",
      "<div class=\"atl-con-bd clearfix\">\n",
      "<div class=\"bbs-content clearfix\">\r\n",
      "\t\t\t\t\t\t\t　　创业三个月了，回想从辞职到创业，从拉团队，到和合伙人一起找到千万级天使轮风投，收获很多，也成长很多。感谢兄弟们的鼎力支持，放弃目前优越的职位，一起日夜奋斗！人生最重要的财富就是经历，不断挑战自己的能力极限，让生命更精彩。<br/>　　记得提出辞职的那天，领导在会议室问想好了？嗯，想好了，我回答得很平静。也许前面的路很不平坦，既然选择了，就奋勇向前。<br/>　　然后就是组建产品和技术团队，先找身边的同事和朋友，这样团队才更稳定，几乎不需要磨合期。积累多年的人品和朋友圈发挥了关键作用。现在的核心团队都是要好的兄弟，共事多年，认同目标和方向，团队效率非常高。这是感受很深刻的一点。\r\n",
      "\t\t\t\t\t\t\t\r\n",
      "\t\t\t\t\t\t</div>\n",
      "<div class=\"clearfix\" id=\"alt_action\"></div>\n",
      "<div class=\"clearfix\">\n",
      "<div class=\"host-data\">\n",
      "<span>楼主发言：4次</span> <span>发图：0张</span>\n",
      "</div>\n",
      "<div class=\"atl-reply\" id=\"alt_reply\">\r\n",
      "\t\t\t\t\t\t\t来自 <a _stat=\"/stat/bbs/post/来自\" class=\"a-link\" href=\"http://www.tianya.cn/mobile/\" rel=\"nofollow\" target=\"_blank\">天涯社区客户端</a> |\r\n",
      "\t\t\t\t\t\t\t<a author=\"坐看云起0317\" authorid=\"106175503\" class=\"reportme a-link\" href=\"javascript:void(0);\" replyid=\"0\" replytime=\"2015-10-02 13:45:00\"> 举报</a> | \r\n",
      "\t\t\t\t\t\t\t<a class=\"a-link acl-share\" href=\"javascript:void(0);\">分享</a> |  \r\n",
      "\t\t\t               \t<a class=\"a-link acl-more\" href=\"javascript:void(0);\">更多</a> |\r\n",
      "\t\t\t\t\t\t\t<span><a class=\"a-link\" name=\"0\">楼主</a></span>\n",
      "<a _name=\"坐看云起0317\" _time=\"2015-10-02 13:45:00\" class=\"a-link2 replytop\" href=\"#fabu_anchor\">回复</a>\n",
      "</div>\n",
      "</div>\n",
      "<div id=\"ds-quick-box\" style=\"display:none;\"></div>\n",
      "</div>\n",
      "<div class=\"atl-con-ft clearfix\">\n",
      "<div class=\"atl-con-ft-l\"></div>\n",
      "<div class=\"atl-con-ft-r\"></div>\n",
      "<div id=\"niuren_ifm\"></div>\n",
      "</div>\n",
      "</div>\n",
      "</div>\n"
     ]
    }
   ],
   "source": [
    "print pa[0]"
   ]
  },
  {
   "cell_type": "code",
   "execution_count": 182,
   "metadata": {
    "collapsed": false
   },
   "outputs": [
    {
     "name": "stdout",
     "output_type": "stream",
     "text": [
      "创业三个月了，回想从辞职到创业，从拉团队，到和合伙人一起找到千万级天使轮风投，收获很多，也成长很多。感谢兄弟们的鼎力支持，放弃目前优越的职位，一起日夜奋斗！人生最重要的财富就是经历，不断挑战自己的能力极限，让生命更精彩。　　记得提出辞职的那天，领导在会议室问想好了？嗯，想好了，我回答得很平静。也许前面的路很不平坦，既然选择了，就奋勇向前。　　然后就是组建产品和技术团队，先找身边的同事和朋友，这样团队才更稳定，几乎不需要磨合期。积累多年的人品和朋友圈发挥了关键作用。现在的核心团队都是要好的兄弟，共事多年，认同目标和方向，团队效率非常高。这是感受很深刻的一点。\n"
     ]
    }
   ],
   "source": [
    "print pa[0].find('div', {'class', 'bbs-content'}).text.strip()"
   ]
  },
  {
   "cell_type": "code",
   "execution_count": 205,
   "metadata": {
    "collapsed": false
   },
   "outputs": [
    {
     "name": "stdout",
     "output_type": "stream",
     "text": [
      "创业的压力经历了才能体会，极大考验承受力与毅力，与同在创业路上的朋友们共勉！\n"
     ]
    }
   ],
   "source": [
    "print pa[2].find('div', {'class', 'bbs-content'}).text.strip()"
   ]
  },
  {
   "cell_type": "code",
   "execution_count": 183,
   "metadata": {
    "collapsed": false
   },
   "outputs": [
    {
     "name": "stdout",
     "output_type": "stream",
     "text": [
      "<a author=\"坐看云起0317\" authorid=\"106175503\" class=\"reportme a-link\" href=\"javascript:void(0);\" replyid=\"0\" replytime=\"2015-10-02 13:45:00\"> 举报</a>\n"
     ]
    }
   ],
   "source": [
    "print pa[0].find('a', class_ = 'reportme a-link')"
   ]
  },
  {
   "cell_type": "code",
   "execution_count": 184,
   "metadata": {
    "collapsed": false
   },
   "outputs": [
    {
     "name": "stdout",
     "output_type": "stream",
     "text": [
      "2015-10-02 13:45:00\n"
     ]
    }
   ],
   "source": [
    "print pa[0].find('a', class_ = 'reportme a-link')['replytime']"
   ]
  },
  {
   "cell_type": "code",
   "execution_count": 185,
   "metadata": {
    "collapsed": false
   },
   "outputs": [
    {
     "name": "stdout",
     "output_type": "stream",
     "text": [
      "坐看云起0317\n"
     ]
    }
   ],
   "source": [
    "print pa[0].find('a', class_ = 'reportme a-link')['author']"
   ]
  },
  {
   "cell_type": "code",
   "execution_count": 186,
   "metadata": {
    "collapsed": false
   },
   "outputs": [
    {
     "name": "stdout",
     "output_type": "stream",
     "text": [
      "2015-10-02 13:45:00 ---> 106175503 ---> 坐看云起0317 ---> 创业三个月了，回想从辞职到创业，从拉团队，到和合伙人一起找到千万级天使轮风投，收获很多，也成长很多。感谢兄弟们的鼎力支持，放弃目前优越的职位，一起日夜奋斗！人生最重要的财富就是经历，不断挑战自己的能力极限，让生命更精彩。　　记得提出辞职的那天，领导在会议室问想好了？嗯，想好了，我回答得很平静。也许前面的路很不平坦，既然选择了，就奋勇向前。　　然后就是组建产品和技术团队，先找身边的同事和朋友，这样团队才更稳定，几乎不需要磨合期。积累多年的人品和朋友圈发挥了关键作用。现在的核心团队都是要好的兄弟，共事多年，认同目标和方向，团队效率非常高。这是感受很深刻的一点。 \n",
      "\n",
      "2015-10-02 14:43:19 ---> 106175503 ---> 坐看云起0317 ---> 记录每一天的成长 \n",
      "\n",
      "2015-10-02 15:42:21 ---> 106175503 ---> 坐看云起0317 ---> 创业的压力经历了才能体会，极大考验承受力与毅力，与同在创业路上的朋友们共勉！ \n",
      "\n",
      "2015-10-02 15:56:25 ---> 106178544 ---> 圣母婊程心 ---> 不错，支持楼主，有创业的心没有创业的能力啊 \n",
      "\n",
      "2015-10-02 16:01:41 ---> 106175503 ---> 坐看云起0317 ---> @圣母婊程心 2015-10-02 15:56:25.0　　不错，支持楼主，有创业的心没有创业的能力啊 　　—————————————　　关键是要找到团队和项目方向，单凭个人几乎是不可能的，积蓄力量和资源，加油！ \n",
      "\n"
     ]
    }
   ],
   "source": [
    "for i in pa[:10]:\n",
    "    p_info = i.find('a', class_ = 'reportme a-link')\n",
    "    p_time = p_info['replytime']\n",
    "    p_author_id = p_info['authorid']\n",
    "    p_author_name = p_info['author']\n",
    "    p_content = i.find('div', {'class', 'bbs-content'}).text.strip()\n",
    "    p_content = p_content.replace('\\t', '')\n",
    "    print p_time, '--->', p_author_id, '--->', p_author_name,'--->', p_content, '\\n'"
   ]
  },
  {
   "cell_type": "code",
   "execution_count": 216,
   "metadata": {
    "collapsed": false
   },
   "outputs": [
    {
     "data": {
      "text/plain": [
       "'/post-free-4184214-1.shtml'"
      ]
     },
     "execution_count": 216,
     "metadata": {},
     "output_type": "execute_result"
    }
   ],
   "source": [
    "df.link[0]"
   ]
  },
  {
   "cell_type": "code",
   "execution_count": 220,
   "metadata": {
    "collapsed": false
   },
   "outputs": [
    {
     "data": {
      "text/plain": [
       "'http://bbs.tianya.cn/post-free-5269736-1.shtml'"
      ]
     },
     "execution_count": 220,
     "metadata": {},
     "output_type": "execute_result"
    }
   ],
   "source": [
    "url = 'http://bbs.tianya.cn' + df.link[4]\n",
    "url"
   ]
  },
  {
   "cell_type": "code",
   "execution_count": 221,
   "metadata": {
    "collapsed": false,
    "scrolled": true
   },
   "outputs": [
    {
     "data": {
      "text/html": [
       "<iframe src=http://bbs.tianya.cn/post-free-5269736-1.shtml width=1000 height=500></iframe>"
      ],
      "text/plain": [
       "<IPython.core.display.HTML object>"
      ]
     },
     "execution_count": 221,
     "metadata": {},
     "output_type": "execute_result"
    }
   ],
   "source": [
    "from IPython.display import display_html, HTML\n",
    "HTML('<iframe src=http://bbs.tianya.cn/post-free-5269736-1.shtml width=1000 height=500></iframe>')\n",
    "# the webpage we would like to craw"
   ]
  },
  {
   "cell_type": "code",
   "execution_count": 222,
   "metadata": {
    "collapsed": true
   },
   "outputs": [],
   "source": [
    "post = urllib2.urlopen(url).read() #获取网页的html文本\n",
    "post_soup = BeautifulSoup(post, \"lxml\") \n",
    "#articles = soup.find_all('tr')"
   ]
  },
  {
   "cell_type": "code",
   "execution_count": 223,
   "metadata": {
    "collapsed": false
   },
   "outputs": [
    {
     "name": "stdout",
     "output_type": "stream",
     "text": [
      "<!DOCTYPE HTML>\n",
      "<html>\n",
      " <head>\n",
      "  <meta charset=\"utf-8\"/>\n",
      "  <title>\n",
      "   记录从BAT辞职到创业的历程_天涯杂谈_天涯论坛\n",
      "  </title>\n",
      "  <meta content=\"记录从BAT辞职到创业的历程　　创业三个月了，回想从辞职到创业，从拉团队，到和合伙人一起找到千万级天使轮风投，收获很多，也成长很多。感谢兄弟们的鼎力支持，放弃目前优越的职位，一起日夜奋斗！人生最重要的财富就是经历，不断挑战自己的能力极限，让生命更精彩。　　记得提出辞...\" name=\"description\"/>\n",
      "  <meta content=\"IE=EmulateIE9\" http-equiv=\"X-UA-Compatible\"/>\n",
      "  <meta content=\"坐看云起0317\" name=\"author\"/>\n",
      "  <meta content=\"format=xhtml; url=http://bbs.tianya.cn/m/post-free-5269736-1.shtml\" http-equiv=\"mobile-agent\"/>\n",
      "  <link href=\"http://static.tianyaui.com/global/ty/TY.css\" rel=\"stylesheet\" type=\"text/css\"/>\n",
      "  <link href=\"http://static.tianyaui.com/global/bbs/web/static/css/bbs_article_b719ad6.css\" rel=\"stylesheet\" type=\"text/css\"/>\n",
      "  <link href=\"http://static.tianyaui.com/favicon.ico\" rel=\"shortcut icon\" type=\"image/vnd.microsoft.icon\"/>\n",
      "  <script type=\"text/javascript\">\n",
      "   var bbsGlobal = {\r\n",
      "\tisEhomeItem : false,\r\n",
      "\tisNewArticle : false,\r\n",
      "\tauthorId : \"106175503\",\r\n",
      "\tauthorName : \"坐看云起0317\", \r\n",
      "\tblocktype : \"主版\",\r\n",
      "\titemType : \"主版\",\r\n",
      "\tlaibaType : \"null\",  \r\n",
      "\tpage : \"1\",\r\n",
      "\tpermission : true,\r\n",
      "\tpermissionStatus : \"开放\",\r\n",
      "\titemPermission : 1,\r\n",
      "\titemCategory : \"社会\",\r\n",
      "\tisWeiLun : false,\r\n",
      "\tisSealItem : false,\r\n",
      "\titem : \"free\",\r\n",
      "\titemName : \"天涯杂谈\",\r\n",
      "\tartId : 5269736,\r\n",
      "\tmedia : 0,\r\n",
      "\tsubType : \"\",\r\n",
      "\tad : 0,\r\n",
      "\tadshow : 0,\r\n",
      "\tadblock : 0,\r\n",
      "\twords : [{\"link\":\"http://ebook.tianya.cn/html2/chapter.aspx?bookid=75204&comefrom=tianya \",\"word\":\"养鬼\"},{\"link\":\"http://ebook.tianya.cn/html2/chapter.aspx?bookid=78822&comefrom=tianya \",\"word\":\"爱情\"},{\"link\":\"http://ebook.tianya.cn/html2/chapter.aspx?bookid=78829&comefrom=tianya \",\"word\":\"离婚\"},{\"link\":\"http://zan.tianya.cn/\",\"word\":\"原创\"},{\"link\":\"http://bbs.tianya.cn/list-410-1.shtml\",\"word\":\"主播\"},{\"link\":\"http://groups.tianya.cn/list-163029-1.shtml\",\"word\":\"日记\"},{\"link\":\"http://groups.tianya.cn/list-163907-1.shtml\",\"word\":\"吐糟\"},{\"link\":\"http://groups.tianya.cn/list-65695-1.shtml\",\"word\":\"青春\"},{\"link\":\"http://groups.tianya.cn/list-86723-1.shtml\",\"word\":\"EXO\"},{\"link\":\"http://groups.tianya.cn/list-81007-1.shtml\",\"word\":\"李易峰\"},{\"link\":\"http://groups.tianya.cn/list-9999-1.shtml\",\"word\":\"乔振宇\"},{\"link\":\"http://groups.tianya.cn/list-9619-1.shtml\",\"word\":\"陈晓\"},{\"link\":\"http://groups.tianya.cn/list-9214-1.shtml\",\"word\":\"历史\"},{\"link\":\"http://groups.tianya.cn/list-163222-1.shtml\",\"word\":\"哲学\"},{\"link\":\"http://groups.tianya.cn/list-163503-1.shtml\",\"word\":\"感动\"},{\"link\":\"http://bbs.tianya.cn/list-730-1.shtml\",\"word\":\"中山大学\"},{\"link\":\"http://groups.tianya.cn/list-14270-1.shtml\",\"word\":\"雨后\"},{\"link\":\"http://groups.tianya.cn/list-9797-1.shtml\",\"word\":\"钟汉良\"}],\r\n",
      "\tpageCount : 1,\r\n",
      "\tdashang : {\r\n",
      "\t\tmerId : \"%E5%A4%A9%E6%B6%AF%E8%AE%BA%E5%9D%9B\",\r\n",
      "\t\tmerNum : \"free-5269736\",\r\n",
      "\t\tgetName : \"%E5%9D%90%E7%9C%8B%E4%BA%91%E8%B5%B70317\",\r\n",
      "\t\ttime : \"1463638750914\",\r\n",
      "\t\text1 : \"5269736\",\r\n",
      "\t\text2 : \"free\",\r\n",
      "\t\text4 : \"%E8%AE%B0%E5%BD%95%E4%BB%8EBAT%E8%BE%9E%E8%81%8C%E5%88%B0%E5%88%9B%E4%B8%9A%E7%9A%84%E5%8E%86%E7%A8%8B\",\r\n",
      "\t\tsign : \"645589789c9adbcad695a4ad15d426b9\",\r\n",
      "\t\tamount : 0,\r\n",
      "\t\tzhiyinCount : 0,\r\n",
      "\t\tnewestRecords : null\r\n",
      "\t},\r\n",
      "\tisWenda : false,\r\n",
      "\t\r\n",
      "\tisSlide : true,\r\n",
      "\ttrueName : \"\",\r\n",
      "\tartProtectedTips : \"\"\r\n",
      "};\r\n",
      "\r\n",
      "var adsGlobal = {\r\n",
      "\t\titemId : \"free\",\r\n",
      "\t\tpageType : \"02\",\r\n",
      "\t\tpopWinId: \"16\"\r\n",
      "};\n",
      "  </script>\n",
      "  <script charset=\"utf-8\" src=\"http://static.tianyaui.com/global/ty/TY.js\" type=\"text/javascript\">\n",
      "  </script>\n",
      "  <script charset=\"utf-8\" src=\"http://static.tianyaui.com/global/bbs/web/static/js/main_14db926.js\" type=\"text/javascript\">\n",
      "  </script>\n",
      " </head>\n",
      " <body>\n",
      "  <div id=\"top_nav_wrap\">\n",
      "   <div class=\"clearfix\" id=\"top_nav\">\n",
      "    <div class=\"top-nav-logo\">\n",
      "     <a _tystat=\"新版顶导航/Logo\" href=\"http://focus.tianya.cn/\">\n",
      "     </a>\n",
      "    </div>\n",
      "    <div class=\"top-nav-main clearfix\">\n",
      "     <div class=\"top-nav-menu clearfix\">\n",
      "      <div class=\"top-nav-fl clearfix\">\n",
      "       <ul class=\"top-nav-menu-list clearfix\">\n",
      "        <li class=\"top-nav-menu-li top-nav-menu-li-first\">\n",
      "         <a _checklocation=\"1\" _tystat=\"新版顶导航/论坛\" appstr=\"bbs\" class=\"top-nav-main-menu\" href=\"http://bbs.tianya.cn/\">\n",
      "          论坛\n",
      "         </a>\n",
      "        </li>\n",
      "        <li class=\"top-nav-menu-li\">\n",
      "         <a _checklocation=\"1\" _tystat=\"新版顶导航/分社区/聚焦\" appstr=\"focus\" class=\"top-nav-main-menu\" href=\"http://focus.tianya.cn/\">\n",
      "          聚焦\n",
      "         </a>\n",
      "        </li>\n",
      "        <li class=\"top-nav-menu-li\">\n",
      "         <a _tystat=\"新版顶导航/部落\" class=\"top-nav-main-menu\" href=\"http://groups.tianya.cn\">\n",
      "          部落\n",
      "         </a>\n",
      "        </li>\n",
      "        <li class=\"top-nav-menu-li\">\n",
      "         <a _checklocation=\"1\" _tystat=\"新版顶导航/博客\" appstr=\"blog\" class=\"top-nav-main-menu\" href=\"http://blog.tianya.cn/\">\n",
      "          博客\n",
      "         </a>\n",
      "        </li>\n",
      "        <li class=\"top-nav-menu-li\">\n",
      "         <a _checklocation=\"1\" _tystat=\"新版顶导航/问答\" appstr=\"wenda\" class=\"top-nav-main-menu\" href=\"http://wenda.tianya.cn/\">\n",
      "          问答\n",
      "         </a>\n",
      "        </li>\n",
      "        <!-- <li class=\"top-nav-menu-li\"><a _tystat=\"新版顶导航/天涯客\" href=\"http://travel.tianya.cn/\" class=\"top-nav-main-menu\" appstr=\"travel\" _checklocation=\"1\">天涯客</a></li>-->\n",
      " \n"
     ]
    }
   ],
   "source": [
    "print (post_soup.prettify())[:5000]"
   ]
  },
  {
   "cell_type": "code",
   "execution_count": 224,
   "metadata": {
    "collapsed": false
   },
   "outputs": [
    {
     "data": {
      "text/plain": [
       "5"
      ]
     },
     "execution_count": 224,
     "metadata": {},
     "output_type": "execute_result"
    }
   ],
   "source": [
    "pa = post_soup.find_all('div', {'class', 'atl-item'})\n",
    "len(pa)"
   ]
  },
  {
   "cell_type": "code",
   "execution_count": 225,
   "metadata": {
    "collapsed": false
   },
   "outputs": [
    {
     "name": "stdout",
     "output_type": "stream",
     "text": [
      "<div _host=\"%E5%9D%90%E7%9C%8B%E4%BA%91%E8%B5%B70317\" class=\"atl-item host-item\">\n",
      "<div class=\"atl-content\">\n",
      "<div class=\"atl-con-hd clearfix\">\n",
      "<div class=\"atl-con-hd-l\"></div>\n",
      "<div class=\"atl-con-hd-r\"></div>\n",
      "</div>\n",
      "<div class=\"atl-con-bd clearfix\">\n",
      "<div class=\"bbs-content clearfix\">\r\n",
      "\t\t\t\t\t\t\t　　创业三个月了，回想从辞职到创业，从拉团队，到和合伙人一起找到千万级天使轮风投，收获很多，也成长很多。感谢兄弟们的鼎力支持，放弃目前优越的职位，一起日夜奋斗！人生最重要的财富就是经历，不断挑战自己的能力极限，让生命更精彩。<br/>　　记得提出辞职的那天，领导在会议室问想好了？嗯，想好了，我回答得很平静。也许前面的路很不平坦，既然选择了，就奋勇向前。<br/>　　然后就是组建产品和技术团队，先找身边的同事和朋友，这样团队才更稳定，几乎不需要磨合期。积累多年的人品和朋友圈发挥了关键作用。现在的核心团队都是要好的兄弟，共事多年，认同目标和方向，团队效率非常高。这是感受很深刻的一点。\r\n",
      "\t\t\t\t\t\t\t\r\n",
      "\t\t\t\t\t\t</div>\n",
      "<div class=\"clearfix\" id=\"alt_action\"></div>\n",
      "<div class=\"clearfix\">\n",
      "<div class=\"host-data\">\n",
      "<span>楼主发言：4次</span> <span>发图：0张</span>\n",
      "</div>\n",
      "<div class=\"atl-reply\" id=\"alt_reply\">\r\n",
      "\t\t\t\t\t\t\t来自 <a _stat=\"/stat/bbs/post/来自\" class=\"a-link\" href=\"http://www.tianya.cn/mobile/\" rel=\"nofollow\" target=\"_blank\">天涯社区客户端</a> |\r\n",
      "\t\t\t\t\t\t\t<a author=\"坐看云起0317\" authorid=\"106175503\" class=\"reportme a-link\" href=\"javascript:void(0);\" replyid=\"0\" replytime=\"2015-10-02 13:45:00\"> 举报</a> | \r\n",
      "\t\t\t\t\t\t\t<a class=\"a-link acl-share\" href=\"javascript:void(0);\">分享</a> |  \r\n",
      "\t\t\t               \t<a class=\"a-link acl-more\" href=\"javascript:void(0);\">更多</a> |\r\n",
      "\t\t\t\t\t\t\t<span><a class=\"a-link\" name=\"0\">楼主</a></span>\n",
      "<a _name=\"坐看云起0317\" _time=\"2015-10-02 13:45:00\" class=\"a-link2 replytop\" href=\"#fabu_anchor\">回复</a>\n",
      "</div>\n",
      "</div>\n",
      "<div id=\"ds-quick-box\" style=\"display:none;\"></div>\n",
      "</div>\n",
      "<div class=\"atl-con-ft clearfix\">\n",
      "<div class=\"atl-con-ft-l\"></div>\n",
      "<div class=\"atl-con-ft-r\"></div>\n",
      "<div id=\"niuren_ifm\"></div>\n",
      "</div>\n",
      "</div>\n",
      "</div>\n"
     ]
    }
   ],
   "source": [
    "print pa[0]"
   ]
  },
  {
   "cell_type": "code",
   "execution_count": 226,
   "metadata": {
    "collapsed": false
   },
   "outputs": [
    {
     "name": "stdout",
     "output_type": "stream",
     "text": [
      "<div _host=\"%E5%9D%90%E7%9C%8B%E4%BA%91%E8%B5%B70317\" class=\"atl-item\" id=\"1\" js_restime=\"2015-10-02 14:43:19\" js_username=\"%E5%9D%90%E7%9C%8B%E4%BA%91%E8%B5%B70317\" replyid=\"128607801\">\n",
      "<div class=\"atl-head\" id=\"9ea100fa6dd18038d7e9463daa42816f\">\n",
      "<div class=\"atl-head-reply\"></div>\n",
      "<div class=\"atl-info\">\n",
      "<span><strong class=\"host\">楼主</strong>：<a class=\"js-vip-check\" href=\"http://www.tianya.cn/106175503\" target=\"_blank\" uid=\"106175503\" uname=\"坐看云起0317\">坐看云起0317</a> </span>\n",
      "<span>时间：2015-10-02 14:43:19</span>\n",
      "</div>\n",
      "</div>\n",
      "<div class=\"atl-content\">\n",
      "<div class=\"atl-con-hd clearfix\">\n",
      "<div class=\"atl-con-hd-l\"></div>\n",
      "<div class=\"atl-con-hd-r\"></div>\n",
      "</div>\n",
      "<div class=\"atl-con-bd clearfix\">\n",
      "<div class=\"bbs-content\">\r\n",
      "\t\t\t\t\t\t\t　　记录每一天的成长<br/>　　\r\n",
      "\t\t\t\t\t\t\t\r\n",
      "\t\t\t\t\t\t</div>\n",
      "<div class=\"atl-reply\">\r\n",
      "\t\t\t\t\t\t\t来自 <a _stat=\"/stat/bbs/post/来自\" class=\"a-link\" href=\"http://www.tianya.cn/mobile/\" rel=\"nofollow\" target=\"_blank\">天涯社区客户端</a> |\r\n",
      "\t\t\t\t\t\t\t<a author=\"坐看云起0317\" authorid=\"106175503\" class=\"reportme a-link\" href=\"javascript:void(0);\" replyid=\"128607801\" replytime=\"2015-10-02 14:43:19\">举报</a> |\r\n",
      "\t\t\t\t\t\t\t\t\t\t\t\t\t\t\r\n",
      "\t\t\t\t\t\t\t<span>1楼</span> |\r\n",
      "\t\t\t\t\t\t\t<a class=\"a-link-2 ir-shang\" floor=\"1\" href=\"javascript:void(0);\" title=\"打赏层主\">\r\n",
      "\t\t\t\t\t\t\t\t打赏\r\n",
      "\t\t\t\t\t\t\t</a> |\r\n",
      "\t\t\t\t\t\t\t<a class=\"a-link-2 reply\" href=\"#fabu_anchor\" title=\"引用回复\">回复</a> |\r\n",
      "\t\t\t\t\t\t\t<a _stat=\"/stat/bbs/post/评论\" class=\"a-link-2 ir-remark\" floor=\"1\" href=\"javascript:void(0);\" title=\"插入评论\">\r\n",
      "\t\t\t\t\t\t\t\t评论\r\n",
      "\t\t\t\t\t\t\t</a>\n",
      "</div>\n",
      "</div>\n",
      "<div class=\"atl-con-ft clearfix\">\n",
      "<div class=\"atl-con-ft-l\"></div>\n",
      "<div class=\"atl-con-ft-r\"></div>\n",
      "</div>\n",
      "</div>\n",
      "</div>\n"
     ]
    }
   ],
   "source": [
    "print pa[1]"
   ]
  },
  {
   "cell_type": "code",
   "execution_count": 229,
   "metadata": {
    "collapsed": false
   },
   "outputs": [
    {
     "name": "stdout",
     "output_type": "stream",
     "text": [
      "<div _host=\"%E5%9C%A3%E6%AF%8D%E5%A9%8A%E7%A8%8B%E5%BF%83\" class=\"atl-item\" id=\"5\" js_restime=\"2015-10-02 15:56:25\" js_username=\"%E5%9C%A3%E6%AF%8D%E5%A9%8A%E7%A8%8B%E5%BF%83\" replyid=\"128607810\">\n",
      "<div class=\"atl-head\" id=\"c3940ed6cbffc1d13b3aa620bc6e75ea\">\n",
      "<div class=\"atl-head-reply\"></div>\n",
      "<div class=\"atl-info\">\n",
      "<span>作者：<a class=\"js-vip-check\" href=\"http://www.tianya.cn/106178544\" target=\"_blank\" uid=\"106178544\" uname=\"圣母婊程心\">圣母婊程心</a> </span>\n",
      "<span>时间：2015-10-02 15:56:25</span>\n",
      "</div>\n",
      "</div>\n",
      "<div class=\"atl-content\">\n",
      "<div class=\"atl-con-hd clearfix\">\n",
      "<div class=\"atl-con-hd-l\"></div>\n",
      "<div class=\"atl-con-hd-r\"></div>\n",
      "</div>\n",
      "<div class=\"atl-con-bd clearfix\">\n",
      "<div class=\"bbs-content\">\r\n",
      "\t\t\t\t\t\t\t　　不错，支持楼主，有创业的心没有创业的能力啊<br/>　　\r\n",
      "\t\t\t\t\t\t\t\r\n",
      "\t\t\t\t\t\t</div>\n",
      "<div class=\"atl-reply\">\r\n",
      "\t\t\t\t\t\t\t来自 <a _stat=\"/stat/bbs/post/来自\" class=\"a-link\" href=\"http://www.tianya.cn/mobile/\" rel=\"nofollow\" target=\"_blank\">天涯社区客户端</a> |\r\n",
      "\t\t\t\t\t\t\t<a author=\"圣母婊程心\" authorid=\"106178544\" class=\"reportme a-link\" href=\"javascript:void(0);\" replyid=\"128607810\" replytime=\"2015-10-02 15:56:25\">举报</a> |\r\n",
      "\t\t\t\t\t\t\t\t\t\t\t\t\t\t\r\n",
      "\t\t\t\t\t\t\t<span>5楼</span> |\r\n",
      "\t\t\t\t\t\t\t<a class=\"a-link-2 ir-shang\" floor=\"5\" href=\"javascript:void(0);\" title=\"打赏层主\">\r\n",
      "\t\t\t\t\t\t\t\t打赏\r\n",
      "\t\t\t\t\t\t\t</a> |\r\n",
      "\t\t\t\t\t\t\t<a class=\"a-link-2 reply\" href=\"#fabu_anchor\" title=\"引用回复\">回复</a> |\r\n",
      "\t\t\t\t\t\t\t<a _stat=\"/stat/bbs/post/评论\" class=\"a-link-2 ir-remark\" floor=\"5\" href=\"javascript:void(0);\" title=\"插入评论\">\r\n",
      "\t\t\t\t\t\t\t\t评论\r\n",
      "\t\t\t\t\t\t\t</a>\n",
      "</div>\n",
      "</div>\n",
      "<div class=\"atl-con-ft clearfix\">\n",
      "<div class=\"atl-con-ft-l\"></div>\n",
      "<div class=\"atl-con-ft-r\"></div>\n",
      "</div>\n",
      "</div>\n",
      "</div>\n"
     ]
    }
   ],
   "source": [
    "print pa[3]"
   ]
  },
  {
   "cell_type": "code",
   "execution_count": 230,
   "metadata": {
    "collapsed": false
   },
   "outputs": [
    {
     "name": "stdout",
     "output_type": "stream",
     "text": [
      "创业三个月了，回想从辞职到创业，从拉团队，到和合伙人一起找到千万级天使轮风投，收获很多，也成长很多。感谢兄弟们的鼎力支持，放弃目前优越的职位，一起日夜奋斗！人生最重要的财富就是经历，不断挑战自己的能力极限，让生命更精彩。　　记得提出辞职的那天，领导在会议室问想好了？嗯，想好了，我回答得很平静。也许前面的路很不平坦，既然选择了，就奋勇向前。　　然后就是组建产品和技术团队，先找身边的同事和朋友，这样团队才更稳定，几乎不需要磨合期。积累多年的人品和朋友圈发挥了关键作用。现在的核心团队都是要好的兄弟，共事多年，认同目标和方向，团队效率非常高。这是感受很深刻的一点。\n"
     ]
    }
   ],
   "source": [
    "print pa[0].find('div', {'class', 'bbs-content'}).text.strip()"
   ]
  },
  {
   "cell_type": "code",
   "execution_count": 231,
   "metadata": {
    "collapsed": false
   },
   "outputs": [
    {
     "name": "stdout",
     "output_type": "stream",
     "text": [
      "不错，支持楼主，有创业的心没有创业的能力啊\n"
     ]
    }
   ],
   "source": [
    "print pa[3].find('div', {'class', 'bbs-content'}).text.strip()"
   ]
  },
  {
   "cell_type": "code",
   "execution_count": 232,
   "metadata": {
    "collapsed": false
   },
   "outputs": [
    {
     "data": {
      "text/plain": [
       "<a class=\"js-vip-check\" href=\"http://www.tianya.cn/106175503\" target=\"_blank\" uid=\"106175503\" uname=\"\\u5750\\u770b\\u4e91\\u8d770317\">\\u5750\\u770b\\u4e91\\u8d770317</a>"
      ]
     },
     "execution_count": 232,
     "metadata": {},
     "output_type": "execute_result"
    }
   ],
   "source": [
    "pa[1].a"
   ]
  },
  {
   "cell_type": "code",
   "execution_count": 234,
   "metadata": {
    "collapsed": false
   },
   "outputs": [
    {
     "name": "stdout",
     "output_type": "stream",
     "text": [
      "<a author=\"圣母婊程心\" authorid=\"106178544\" class=\"reportme a-link\" href=\"javascript:void(0);\" replyid=\"128607810\" replytime=\"2015-10-02 15:56:25\">举报</a>\n"
     ]
    }
   ],
   "source": [
    "print pa[3].find('a', class_ = 'reportme a-link')"
   ]
  },
  {
   "cell_type": "code",
   "execution_count": 236,
   "metadata": {
    "collapsed": false
   },
   "outputs": [
    {
     "name": "stdout",
     "output_type": "stream",
     "text": [
      "圣母婊程心\n"
     ]
    }
   ],
   "source": [
    "print pa[3].find('a', class_ = 'reportme a-link')['author']"
   ]
  },
  {
   "cell_type": "code",
   "execution_count": 238,
   "metadata": {
    "collapsed": false
   },
   "outputs": [
    {
     "name": "stdout",
     "output_type": "stream",
     "text": [
      "2015-10-02 15:56:25\n"
     ]
    }
   ],
   "source": [
    "print pa[3].find('a', class_ = 'reportme a-link')['replytime']"
   ]
  },
  {
   "cell_type": "code",
   "execution_count": 239,
   "metadata": {
    "collapsed": false
   },
   "outputs": [
    {
     "name": "stdout",
     "output_type": "stream",
     "text": [
      "2015-10-02 13:45:00 ---> 106175503 ---> 坐看云起0317 ---> 创业三个月了，回想从辞职到创业，从拉团队，到和合伙人一起找到千万级天使轮风投，收获很多，也成长很多。感谢兄弟们的鼎力支持，放弃目前优越的职位，一起日夜奋斗！人生最重要的财富就是经历，不断挑战自己的能力极限，让生命更精彩。　　记得提出辞职的那天，领导在会议室问想好了？嗯，想好了，我回答得很平静。也许前面的路很不平坦，既然选择了，就奋勇向前。　　然后就是组建产品和技术团队，先找身边的同事和朋友，这样团队才更稳定，几乎不需要磨合期。积累多年的人品和朋友圈发挥了关键作用。现在的核心团队都是要好的兄弟，共事多年，认同目标和方向，团队效率非常高。这是感受很深刻的一点。 \n",
      "\n",
      "2015-10-02 14:43:19 ---> 106175503 ---> 坐看云起0317 ---> 记录每一天的成长 \n",
      "\n",
      "2015-10-02 15:42:21 ---> 106175503 ---> 坐看云起0317 ---> 创业的压力经历了才能体会，极大考验承受力与毅力，与同在创业路上的朋友们共勉！ \n",
      "\n",
      "2015-10-02 15:56:25 ---> 106178544 ---> 圣母婊程心 ---> 不错，支持楼主，有创业的心没有创业的能力啊 \n",
      "\n",
      "2015-10-02 16:01:41 ---> 106175503 ---> 坐看云起0317 ---> @圣母婊程心 2015-10-02 15:56:25.0　　不错，支持楼主，有创业的心没有创业的能力啊 　　—————————————　　关键是要找到团队和项目方向，单凭个人几乎是不可能的，积蓄力量和资源，加油！ \n",
      "\n"
     ]
    }
   ],
   "source": [
    "for i in pa[:10]:\n",
    "    p_info = i.find('a', class_ = 'reportme a-link')\n",
    "    p_time = p_info['replytime']\n",
    "    p_author_id = p_info['authorid']\n",
    "    p_author_name = p_info['author']\n",
    "    p_content = i.find('div', {'class', 'bbs-content'}).text.strip()\n",
    "    p_content = p_content.replace('\\t', '')\n",
    "    print p_time, '--->', p_author_id, '--->', p_author_name,'--->', p_content, '\\n'"
   ]
  },
  {
   "cell_type": "code",
   "execution_count": null,
   "metadata": {
    "collapsed": true
   },
   "outputs": [],
   "source": []
  }
 ],
 "metadata": {
  "kernelspec": {
   "display_name": "Python 2",
   "language": "python",
   "name": "python2"
  },
  "language_info": {
   "codemirror_mode": {
    "name": "ipython",
    "version": 2
   },
   "file_extension": ".py",
   "mimetype": "text/x-python",
   "name": "python",
   "nbconvert_exporter": "python",
   "pygments_lexer": "ipython2",
   "version": "2.7.11"
  }
 },
 "nbformat": 4,
 "nbformat_minor": 0
}
